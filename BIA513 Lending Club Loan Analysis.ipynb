{
 "cells": [
  {
   "cell_type": "code",
   "execution_count": 1,
   "metadata": {},
   "outputs": [],
   "source": [
    "from IPython.core.interactiveshell import InteractiveShell\n",
    "InteractiveShell.ast_node_interactivity = \"all\"\n",
    "import pandas as pd"
   ]
  },
  {
   "cell_type": "code",
   "execution_count": 2,
   "metadata": {},
   "outputs": [],
   "source": [
    "#import pandas as pd\n",
    "df=pd.read_csv(\"C:/Users/USER/Desktop/513projectData.csv\",header=0)\n",
    "#df.head()"
   ]
  },
  {
   "cell_type": "markdown",
   "metadata": {},
   "source": [
    "## Processing"
   ]
  },
  {
   "cell_type": "code",
   "execution_count": 22,
   "metadata": {},
   "outputs": [],
   "source": [
    "# import preprocessing from sklearn\n",
    "from sklearn import preprocessing"
   ]
  },
  {
   "cell_type": "code",
   "execution_count": 3,
   "metadata": {},
   "outputs": [],
   "source": [
    "#df.columns"
   ]
  },
  {
   "cell_type": "code",
   "execution_count": 24,
   "metadata": {},
   "outputs": [],
   "source": [
    "import pandas as pd\n",
    "import seaborn as sns\n",
    "import matplotlib.pyplot as plt\n",
    "import numpy as np\n",
    "%matplotlib inline"
   ]
  },
  {
   "cell_type": "code",
   "execution_count": 5,
   "metadata": {},
   "outputs": [],
   "source": [
    "# create a LabelEncoder object and fit it to each feature in X\n",
    "\n",
    "\n",
    "# 1. INSTANTIATE\n",
    "# encode labels with value between 0 and n_classes-1.\n",
    "le = preprocessing.LabelEncoder()\n",
    "\n",
    "# 2/3. FIT AND TRANSFORM\n",
    "# use df.apply() to apply le.fit_transform to all columns\n",
    "df_en = df.apply(le.fit_transform)\n",
    "df_en.head()"
   ]
  },
  {
   "cell_type": "code",
   "execution_count": 26,
   "metadata": {},
   "outputs": [
    {
     "name": "stderr",
     "output_type": "stream",
     "text": [
      "C:\\Users\\USER\\Anaconda3\\lib\\site-packages\\sklearn\\preprocessing\\data.py:645: DataConversionWarning: Data with input dtype int32, int64 were all converted to float64 by StandardScaler.\n",
      "  return self.partial_fit(X, y)\n"
     ]
    },
    {
     "data": {
      "text/plain": [
       "StandardScaler(copy=True, with_mean=True, with_std=True)"
      ]
     },
     "execution_count": 26,
     "metadata": {},
     "output_type": "execute_result"
    },
    {
     "name": "stderr",
     "output_type": "stream",
     "text": [
      "C:\\Users\\USER\\Anaconda3\\lib\\site-packages\\ipykernel_launcher.py:6: DataConversionWarning: Data with input dtype int32, int64 were all converted to float64 by StandardScaler.\n",
      "  \n"
     ]
    },
    {
     "data": {
      "text/html": [
       "<div>\n",
       "<style scoped>\n",
       "    .dataframe tbody tr th:only-of-type {\n",
       "        vertical-align: middle;\n",
       "    }\n",
       "\n",
       "    .dataframe tbody tr th {\n",
       "        vertical-align: top;\n",
       "    }\n",
       "\n",
       "    .dataframe thead th {\n",
       "        text-align: right;\n",
       "    }\n",
       "</style>\n",
       "<table border=\"1\" class=\"dataframe\">\n",
       "  <thead>\n",
       "    <tr style=\"text-align: right;\">\n",
       "      <th></th>\n",
       "      <th>loan_amnt</th>\n",
       "      <th>term</th>\n",
       "      <th>installment</th>\n",
       "      <th>annual_inc</th>\n",
       "      <th>loan_status</th>\n",
       "      <th>dti</th>\n",
       "      <th>open_acc</th>\n",
       "      <th>pub_rec</th>\n",
       "      <th>revol_bal</th>\n",
       "      <th>revol_util</th>\n",
       "      <th>...</th>\n",
       "      <th>title_Car financing</th>\n",
       "      <th>title_Credit card refinancing</th>\n",
       "      <th>title_Debt consolidation</th>\n",
       "      <th>title_Green loan</th>\n",
       "      <th>title_Home buying</th>\n",
       "      <th>title_Home improvement</th>\n",
       "      <th>title_Major purchase</th>\n",
       "      <th>title_Medical expenses</th>\n",
       "      <th>title_Moving and relocation</th>\n",
       "      <th>title_Other</th>\n",
       "    </tr>\n",
       "  </thead>\n",
       "  <tbody>\n",
       "    <tr>\n",
       "      <th>0</th>\n",
       "      <td>-1.107336</td>\n",
       "      <td>-0.655995</td>\n",
       "      <td>-1.150279</td>\n",
       "      <td>-0.609240</td>\n",
       "      <td>0.264278</td>\n",
       "      <td>-1.084984</td>\n",
       "      <td>-0.351113</td>\n",
       "      <td>-1.320353</td>\n",
       "      <td>-0.802862</td>\n",
       "      <td>-0.384269</td>\n",
       "      <td>...</td>\n",
       "      <td>-0.54322</td>\n",
       "      <td>-1.021574</td>\n",
       "      <td>-0.024175</td>\n",
       "      <td>-0.121886</td>\n",
       "      <td>-0.276096</td>\n",
       "      <td>-0.175332</td>\n",
       "      <td>-0.128978</td>\n",
       "      <td>-0.083396</td>\n",
       "      <td>3.174188</td>\n",
       "      <td>-0.083621</td>\n",
       "    </tr>\n",
       "    <tr>\n",
       "      <th>1</th>\n",
       "      <td>-0.102670</td>\n",
       "      <td>-0.655995</td>\n",
       "      <td>0.245356</td>\n",
       "      <td>1.549619</td>\n",
       "      <td>-0.062098</td>\n",
       "      <td>1.297009</td>\n",
       "      <td>-0.351113</td>\n",
       "      <td>1.016841</td>\n",
       "      <td>0.116827</td>\n",
       "      <td>2.529258</td>\n",
       "      <td>...</td>\n",
       "      <td>-0.54322</td>\n",
       "      <td>0.978881</td>\n",
       "      <td>-0.024175</td>\n",
       "      <td>-0.121886</td>\n",
       "      <td>-0.276096</td>\n",
       "      <td>-0.175332</td>\n",
       "      <td>-0.128978</td>\n",
       "      <td>-0.083396</td>\n",
       "      <td>-0.315041</td>\n",
       "      <td>-0.083621</td>\n",
       "    </tr>\n",
       "    <tr>\n",
       "      <th>2</th>\n",
       "      <td>-0.487328</td>\n",
       "      <td>1.524402</td>\n",
       "      <td>-0.239616</td>\n",
       "      <td>-0.891905</td>\n",
       "      <td>2.256942</td>\n",
       "      <td>-0.574557</td>\n",
       "      <td>-0.351113</td>\n",
       "      <td>-1.176502</td>\n",
       "      <td>-0.747123</td>\n",
       "      <td>-0.717243</td>\n",
       "      <td>...</td>\n",
       "      <td>-0.54322</td>\n",
       "      <td>-1.021574</td>\n",
       "      <td>-0.024175</td>\n",
       "      <td>-0.121886</td>\n",
       "      <td>-0.276096</td>\n",
       "      <td>-0.175332</td>\n",
       "      <td>7.753241</td>\n",
       "      <td>-0.083396</td>\n",
       "      <td>-0.315041</td>\n",
       "      <td>-0.083621</td>\n",
       "    </tr>\n",
       "    <tr>\n",
       "      <th>3</th>\n",
       "      <td>0.889342</td>\n",
       "      <td>1.524402</td>\n",
       "      <td>0.977896</td>\n",
       "      <td>0.022832</td>\n",
       "      <td>-0.564216</td>\n",
       "      <td>-0.744699</td>\n",
       "      <td>-0.351113</td>\n",
       "      <td>-0.442975</td>\n",
       "      <td>2.191106</td>\n",
       "      <td>-0.550756</td>\n",
       "      <td>...</td>\n",
       "      <td>-0.54322</td>\n",
       "      <td>0.978881</td>\n",
       "      <td>-0.024175</td>\n",
       "      <td>-0.121886</td>\n",
       "      <td>-0.276096</td>\n",
       "      <td>-0.175332</td>\n",
       "      <td>-0.128978</td>\n",
       "      <td>-0.083396</td>\n",
       "      <td>-0.315041</td>\n",
       "      <td>-0.083621</td>\n",
       "    </tr>\n",
       "    <tr>\n",
       "      <th>4</th>\n",
       "      <td>-1.302196</td>\n",
       "      <td>-0.655995</td>\n",
       "      <td>-1.502858</td>\n",
       "      <td>-0.511092</td>\n",
       "      <td>-1.708858</td>\n",
       "      <td>-0.744699</td>\n",
       "      <td>-0.351113</td>\n",
       "      <td>-1.317768</td>\n",
       "      <td>-1.706626</td>\n",
       "      <td>0.614655</td>\n",
       "      <td>...</td>\n",
       "      <td>-0.54322</td>\n",
       "      <td>-1.021574</td>\n",
       "      <td>-0.024175</td>\n",
       "      <td>-0.121886</td>\n",
       "      <td>-0.276096</td>\n",
       "      <td>5.703453</td>\n",
       "      <td>-0.128978</td>\n",
       "      <td>-0.083396</td>\n",
       "      <td>-0.315041</td>\n",
       "      <td>-0.083621</td>\n",
       "    </tr>\n",
       "  </tbody>\n",
       "</table>\n",
       "<p>5 rows × 53 columns</p>\n",
       "</div>"
      ],
      "text/plain": [
       "   loan_amnt      term  installment  annual_inc  loan_status       dti  \\\n",
       "0  -1.107336 -0.655995    -1.150279   -0.609240     0.264278 -1.084984   \n",
       "1  -0.102670 -0.655995     0.245356    1.549619    -0.062098  1.297009   \n",
       "2  -0.487328  1.524402    -0.239616   -0.891905     2.256942 -0.574557   \n",
       "3   0.889342  1.524402     0.977896    0.022832    -0.564216 -0.744699   \n",
       "4  -1.302196 -0.655995    -1.502858   -0.511092    -1.708858 -0.744699   \n",
       "\n",
       "   open_acc   pub_rec  revol_bal  revol_util  ...  title_Car financing  \\\n",
       "0 -0.351113 -1.320353  -0.802862   -0.384269  ...             -0.54322   \n",
       "1 -0.351113  1.016841   0.116827    2.529258  ...             -0.54322   \n",
       "2 -0.351113 -1.176502  -0.747123   -0.717243  ...             -0.54322   \n",
       "3 -0.351113 -0.442975   2.191106   -0.550756  ...             -0.54322   \n",
       "4 -0.351113 -1.317768  -1.706626    0.614655  ...             -0.54322   \n",
       "\n",
       "   title_Credit card refinancing  title_Debt consolidation  title_Green loan  \\\n",
       "0                      -1.021574                 -0.024175         -0.121886   \n",
       "1                       0.978881                 -0.024175         -0.121886   \n",
       "2                      -1.021574                 -0.024175         -0.121886   \n",
       "3                       0.978881                 -0.024175         -0.121886   \n",
       "4                      -1.021574                 -0.024175         -0.121886   \n",
       "\n",
       "   title_Home buying  title_Home improvement  title_Major purchase  \\\n",
       "0          -0.276096               -0.175332             -0.128978   \n",
       "1          -0.276096               -0.175332             -0.128978   \n",
       "2          -0.276096               -0.175332              7.753241   \n",
       "3          -0.276096               -0.175332             -0.128978   \n",
       "4          -0.276096                5.703453             -0.128978   \n",
       "\n",
       "   title_Medical expenses  title_Moving and relocation  title_Other  \n",
       "0               -0.083396                     3.174188    -0.083621  \n",
       "1               -0.083396                    -0.315041    -0.083621  \n",
       "2               -0.083396                    -0.315041    -0.083621  \n",
       "3               -0.083396                    -0.315041    -0.083621  \n",
       "4               -0.083396                    -0.315041    -0.083621  \n",
       "\n",
       "[5 rows x 53 columns]"
      ]
     },
     "execution_count": 26,
     "metadata": {},
     "output_type": "execute_result"
    }
   ],
   "source": [
    "# StandardScaler\n",
    "from sklearn.preprocessing import StandardScaler\n",
    "\n",
    "scaler = StandardScaler()\n",
    "scaler.fit(df_en.drop('loan_status',axis=1))\n",
    "scaled_features = scaler.transform(df_en.drop('loan_status',axis=1))\n",
    "df_feat = pd.DataFrame(scaled_features,columns=df.columns[:-1])\n",
    "df_feat.head()"
   ]
  },
  {
   "cell_type": "code",
   "execution_count": 27,
   "metadata": {},
   "outputs": [],
   "source": [
    "# use the training dataset to build and validate the model, \n",
    "# and treat the test dataset as the unseen new data see if the model were in production.\n",
    "\n",
    "from sklearn.model_selection import train_test_split\n",
    "\n",
    "X = df_feat\n",
    "y = df['loan_status']\n",
    "\n",
    "training_features, test_features, \\\n",
    "training_target, test_target,  = train_test_split(X,y,test_size=0.20,random_state=45)"
   ]
  },
  {
   "cell_type": "code",
   "execution_count": 28,
   "metadata": {},
   "outputs": [],
   "source": [
    "x_train, x_valid, y_train, y_valid = train_test_split(training_features, training_target,\n",
    "                                                  test_size =0.2,\n",
    "                                                  random_state=101)"
   ]
  },
  {
   "cell_type": "markdown",
   "metadata": {},
   "source": [
    "## Oversampling"
   ]
  },
  {
   "cell_type": "code",
   "execution_count": 29,
   "metadata": {},
   "outputs": [],
   "source": [
    "# oversampling only on the training data,\n",
    "# so none of the information in the validation data is being used to create synthetic observations\n",
    "from imblearn.over_sampling import SMOTE\n",
    "\n",
    "sm = SMOTE(random_state=12, ratio = 1.0)\n",
    "x_train_res, y_train_res = sm.fit_sample(x_train, y_train)\n"
   ]
  },
  {
   "cell_type": "markdown",
   "metadata": {},
   "source": [
    "## SVM model"
   ]
  },
  {
   "cell_type": "markdown",
   "metadata": {},
   "source": [
    "## Using oversampling and hpsklearn package to find best parameter( unfinished running bcz it takes too much time, and result didn't come out by the time we present)"
   ]
  },
  {
   "cell_type": "code",
   "execution_count": 45,
   "metadata": {},
   "outputs": [],
   "source": [
    "from hpsklearn import HyperoptEstimator, svc"
   ]
  },
  {
   "cell_type": "code",
   "execution_count": 7,
   "metadata": {},
   "outputs": [],
   "source": [
    "# Create the estimator object\n",
    "estim = HyperoptEstimator( classifier=svc('mySVC') )\n",
    "\n",
    "# Search the space of classifiers and preprocessing steps and their\n",
    "# respective hyperparameters in sklearn to fit a model to the data\n",
    "estim.fit( x_train_res, y_train_res )\n",
    "\n",
    "# Make a prediction using the optimized model\n",
    "prediction = estim.predict( test_features )\n",
    "\n",
    "# Report the accuracy of the classifier on a given set of data\n",
    "score = estim.score( test_data, test_label )\n",
    "\n",
    "# Return instances of the classifier and preprocessing steps\n",
    "model = estim.best_model()\n",
    "print(model)"
   ]
  },
  {
   "cell_type": "code",
   "execution_count": null,
   "metadata": {},
   "outputs": [],
   "source": [
    "from sklearn.metrics import recall_score\n",
    "\n",
    "print('Validation Results')\n",
    "print(estim.score(x_valid, y_valid))\n",
    "print(recall_score(y_valid, estim.predict(x_valid)))\n",
    "\n",
    "print('\\nTest Results')\n",
    "print(estim.score(test_features, test_target))\n",
    "print(recall_score(test_target, estim.predict(test_features)))"
   ]
  },
  {
   "cell_type": "markdown",
   "metadata": {},
   "source": [
    "## Apply oversampling and GridSearch (too much time, unfinished running)"
   ]
  },
  {
   "cell_type": "code",
   "execution_count": null,
   "metadata": {},
   "outputs": [
    {
     "name": "stderr",
     "output_type": "stream",
     "text": [
      "C:\\Users\\USER\\Anaconda3\\lib\\site-packages\\sklearn\\model_selection\\_split.py:2053: FutureWarning: You should specify a value for 'cv' instead of relying on the default value. The default value will change from 3 to 5 in version 0.22.\n",
      "  warnings.warn(CV_WARNING, FutureWarning)\n",
      "[Parallel(n_jobs=1)]: Using backend SequentialBackend with 1 concurrent workers.\n"
     ]
    },
    {
     "name": "stdout",
     "output_type": "stream",
     "text": [
      "Fitting 3 folds for each of 2 candidates, totalling 6 fits\n",
      "[CV] C=0.1, kernel=linear ............................................\n",
      "[CV] ............................. C=0.1, kernel=linear, total=15.6min\n",
      "[CV] C=0.1, kernel=linear ............................................\n"
     ]
    },
    {
     "name": "stderr",
     "output_type": "stream",
     "text": [
      "[Parallel(n_jobs=1)]: Done   1 out of   1 | elapsed: 19.9min remaining:    0.0s\n"
     ]
    },
    {
     "name": "stdout",
     "output_type": "stream",
     "text": [
      "[CV] ............................. C=0.1, kernel=linear, total=16.3min\n",
      "[CV] C=0.1, kernel=linear ............................................\n",
      "[CV] ............................. C=0.1, kernel=linear, total=15.8min\n",
      "[CV] C=1, kernel=linear ..............................................\n"
     ]
    }
   ],
   "source": [
    "# import GridSearch (this is old output: without oversampling. However, the codes are for oversampling)\n",
    "from sklearn.model_selection import GridSearchCV\n",
    "from sklearn.svm import SVC\n",
    "\n",
    "# initiate an linear SVM model\n",
    "SVM =SVC()\n",
    " \n",
    "parameters = {'C':[0.1,1], 'kernel':['linear']}\n",
    "\n",
    "# GridSearch \n",
    "gs_clf = GridSearchCV(SVM, param_grid=parameters, refit = True, verbose=2)\n",
    "\n",
    "gs_clf = gs_clf.fit(x_train_res, y_train_res)\n"
   ]
  },
  {
   "cell_type": "code",
   "execution_count": 11,
   "metadata": {},
   "outputs": [
    {
     "name": "stdout",
     "output_type": "stream",
     "text": [
      "{'C': 0.1, 'kernel': 'linear'}\n"
     ]
    }
   ],
   "source": [
    "print(gs_clf.best_params_) #this is old output: without oversampling. However, the codes are for oversampling"
   ]
  },
  {
   "cell_type": "code",
   "execution_count": null,
   "metadata": {},
   "outputs": [],
   "source": [
    "print('Validation Results')\n",
    "print(gs_clf.score(x_valid, y_valid))\n",
    "print(recall_score(y_valid, gs_clf.predict(x_valid)))\n",
    "print('\\nTest Results')\n",
    "print(gs_clf.score(test_features, test_target))\n",
    "print(recall_score(test_target, gs_clf.predict(test_features)))"
   ]
  },
  {
   "cell_type": "code",
   "execution_count": 12,
   "metadata": {},
   "outputs": [],
   "source": [
    "# prediction\n",
    "svm_predic = gs_clf.predict(test_features)"
   ]
  },
  {
   "cell_type": "code",
   "execution_count": 36,
   "metadata": {},
   "outputs": [
    {
     "name": "stdout",
     "output_type": "stream",
     "text": [
      "              precision    recall  f1-score   support\n",
      "\n",
      "           0       0.00      0.00      0.00      2308\n",
      "           1       0.93      1.00      0.96     30052\n",
      "\n",
      "   micro avg       0.93      0.93      0.93     32360\n",
      "   macro avg       0.46      0.50      0.48     32360\n",
      "weighted avg       0.86      0.93      0.89     32360\n",
      "\n",
      "[[    0  2308]\n",
      " [    0 30052]]\n"
     ]
    },
    {
     "name": "stderr",
     "output_type": "stream",
     "text": [
      "C:\\Users\\USER\\Anaconda3\\lib\\site-packages\\sklearn\\metrics\\classification.py:1143: UndefinedMetricWarning: Precision and F-score are ill-defined and being set to 0.0 in labels with no predicted samples.\n",
      "  'precision', 'predicted', average, warn_for)\n",
      "C:\\Users\\USER\\Anaconda3\\lib\\site-packages\\sklearn\\metrics\\classification.py:1143: UndefinedMetricWarning: Precision and F-score are ill-defined and being set to 0.0 in labels with no predicted samples.\n",
      "  'precision', 'predicted', average, warn_for)\n",
      "C:\\Users\\USER\\Anaconda3\\lib\\site-packages\\sklearn\\metrics\\classification.py:1143: UndefinedMetricWarning: Precision and F-score are ill-defined and being set to 0.0 in labels with no predicted samples.\n",
      "  'precision', 'predicted', average, warn_for)\n"
     ]
    }
   ],
   "source": [
    "# print out result (this is old output: without oversampling. However, the codes are for oversampling)\n",
    "from sklearn.metrics import classification_report,confusion_matrix\n",
    "print(classification_report(test_target,svm_predic))\n",
    "print(confusion_matrix(test_target, svm_predic))"
   ]
  },
  {
   "cell_type": "markdown",
   "metadata": {},
   "source": [
    "## SVM without fine-tune parameter, w/o oversampling"
   ]
  },
  {
   "cell_type": "code",
   "execution_count": 18,
   "metadata": {},
   "outputs": [],
   "source": [
    "#from sklearn.model_selection import cross_validate\n",
    "#from sklearn.metrics import precision_recall_fscore_support\n",
    "from sklearn import svm\n",
    "\n",
    "# probability should set to True otherwise cannot draw ROC curve\n",
    "clf_svm = svm.SVC(kernel='linear', C=1, probability=True)"
   ]
  },
  {
   "cell_type": "markdown",
   "metadata": {},
   "source": [
    "## AUC Matrix Accuracy¶"
   ]
  },
  {
   "cell_type": "code",
   "execution_count": 11,
   "metadata": {},
   "outputs": [],
   "source": [
    "# Import metric functions from sklearn\n",
    "from sklearn.metrics import accuracy_score, precision_score, recall_score, f1_score\n",
    "from sklearn.metrics import roc_auc_score, roc_curve, auc"
   ]
  },
  {
   "cell_type": "code",
   "execution_count": 19,
   "metadata": {},
   "outputs": [
    {
     "name": "stdout",
     "output_type": "stream",
     "text": [
      "              train      test\n",
      "metrics                      \n",
      "AUC        0.470960  0.469914\n",
      "Accuracy   0.929482  0.933194\n",
      "Precision  0.929482  0.933194\n",
      "Recall     1.000000  1.000000\n",
      "f1-score   0.963452  0.965443\n"
     ]
    },
    {
     "data": {
      "image/png": "[encoded data removed]",
      "text/plain": [
       "<Figure size 432x288 with 1 Axes>"
      ]
     },
     "metadata": {
      "needs_background": "light"
     },
     "output_type": "display_data"
    }
   ],
   "source": [
    "train_test_model(clf=clf_svm, X_train=x_train, y_train=y_train, X_test=x_valid, y_test=y_valid)"
   ]
  },
  {
   "cell_type": "code",
   "execution_count": 12,
   "metadata": {},
   "outputs": [],
   "source": [
    "# Combine get_performance_metrics and plot_roc_curve functions into one function\n",
    "def train_test_model(clf, X_train, y_train, X_test, y_test):\n",
    "    # Fit a model by providing X and y from training set\n",
    "    clf.fit(X_train, y_train)\n",
    "\n",
    "    # Make prediction on the training data\n",
    "    y_train_pred = clf.predict(X_train)\n",
    "    p_train_pred = clf.predict_proba(X_train)[:,1]\n",
    "\n",
    "    # Make predictions on test data\n",
    "    y_test_pred = clf.predict(X_test)\n",
    "    p_test_pred = clf.predict_proba(X_test)[:,1]\n",
    "\n",
    "    # print model results\n",
    "    get_performance_metrics(y_train, p_train_pred, y_test, p_test_pred)\n",
    "    plot_roc_curve(y_train, p_train_pred, y_test, p_test_pred)"
   ]
  },
  {
   "cell_type": "code",
   "execution_count": 13,
   "metadata": {},
   "outputs": [],
   "source": [
    "# Helper method to print metric scores    \n",
    "def get_performance_metrics(y_train, y_train_pred, y_test, y_test_pred, threshold=0.5):\n",
    "    # names of metrics\n",
    "    metric_names = ['AUC','Accuracy','Precision','Recall','f1-score']\n",
    "    \n",
    "    # metrics of train\n",
    "    metric_values_train = [roc_auc_score(y_train, y_train_pred),\n",
    "                    accuracy_score(y_train, y_train_pred>threshold),\n",
    "                    precision_score(y_train, y_train_pred>threshold),\n",
    "                    recall_score(y_train, y_train_pred>threshold),\n",
    "                    f1_score(y_train, y_train_pred>threshold)\n",
    "                   ]\n",
    "    \n",
    "    # metrics of test\n",
    "    metric_values_test = [roc_auc_score(y_test, y_test_pred),\n",
    "                    accuracy_score(y_test, y_test_pred>threshold),\n",
    "                    precision_score(y_test, y_test_pred>threshold),\n",
    "                    recall_score(y_test, y_test_pred>threshold),\n",
    "                    f1_score(y_test, y_test_pred>threshold)\n",
    "                   ]\n",
    "    \n",
    "    # combine metrics from train and test\n",
    "    all_metrics = pd.DataFrame({'metrics':metric_names,\n",
    "                                'train':metric_values_train,\n",
    "                                'test':metric_values_test},columns=['metrics','train','test']).set_index('metrics')\n",
    "    print(all_metrics)"
   ]
  },
  {
   "cell_type": "code",
   "execution_count": 14,
   "metadata": {},
   "outputs": [],
   "source": [
    "# Function of plotting a roc curve\n",
    "def plot_roc_curve(y_train, y_train_pred, y_test, y_test_pred):\n",
    "    roc_auc_train = roc_auc_score(y_train, y_train_pred)\n",
    "    fpr_train, tpr_train, _ = roc_curve(y_train, y_train_pred)\n",
    "\n",
    "    roc_auc_test = roc_auc_score(y_test, y_test_pred)\n",
    "    fpr_test, tpr_test, _ = roc_curve(y_test, y_test_pred)\n",
    "    plt.figure()\n",
    "    lw = 2\n",
    "    plt.plot(fpr_train, tpr_train, color='green',\n",
    "             lw=lw, label='ROC Train (AUC = %0.4f)' % roc_auc_train)\n",
    "    plt.plot(fpr_test, tpr_test, color='darkorange',\n",
    "             lw=lw, label='ROC Test (AUC = %0.4f)' % roc_auc_test)\n",
    "    plt.plot([0, 1], [0, 1], color='navy', lw=lw, linestyle='--')\n",
    "    plt.xlim([0.0, 1.0])\n",
    "    plt.ylim([0.0, 1.05])\n",
    "    plt.xlabel('False Positive Rate')\n",
    "    plt.ylabel('True Positive Rate')\n",
    "    plt.title('Receiver operating characteristic example')\n",
    "    plt.legend(loc=\"lower right\")\n",
    "    plt.show()"
   ]
  },
  {
   "cell_type": "markdown",
   "metadata": {},
   "source": [
    "## SVM without fine-tune parameter, but with oversampling( code didn't run completely bcz takes too much time.)"
   ]
  },
  {
   "cell_type": "code",
   "execution_count": null,
   "metadata": {},
   "outputs": [],
   "source": [
    "clf_svm = svm.SVC(kernel='linear', C=1)\n",
    "cl=clf_svm.fit(x_train_res, y_train_res)"
   ]
  },
  {
   "cell_type": "code",
   "execution_count": null,
   "metadata": {},
   "outputs": [],
   "source": [
    "print('Validation Results')\n",
    "print(cl.score(x_valid, y_valid))\n",
    "print(recall_score(y_valid, gs_clf.predict(x_valid)))\n",
    "print('\\nTest Results')\n",
    "print(cl.score(test_features, test_target))\n",
    "print(recall_score(test_target, gs_clf.predict(test_features)))"
   ]
  },
  {
   "cell_type": "code",
   "execution_count": null,
   "metadata": {},
   "outputs": [],
   "source": [
    "# print out result\n",
    "from sklearn.metrics import classification_report,confusion_matrix\n",
    "print(classification_report(test_target,svm_predic))\n",
    "print(confusion_matrix(test_target, svm_predic))"
   ]
  },
  {
   "cell_type": "markdown",
   "metadata": {},
   "source": [
    "## Logistic regression model with oversampling"
   ]
  },
  {
   "cell_type": "code",
   "execution_count": 31,
   "metadata": {},
   "outputs": [
    {
     "name": "stderr",
     "output_type": "stream",
     "text": [
      "C:\\Users\\USER\\Anaconda3\\lib\\site-packages\\sklearn\\model_selection\\_split.py:2053: FutureWarning: You should specify a value for 'cv' instead of relying on the default value. The default value will change from 3 to 5 in version 0.22.\n",
      "  warnings.warn(CV_WARNING, FutureWarning)\n",
      "C:\\Users\\USER\\Anaconda3\\lib\\site-packages\\sklearn\\linear_model\\logistic.py:433: FutureWarning: Default solver will be changed to 'lbfgs' in 0.22. Specify a solver to silence this warning.\n",
      "  FutureWarning)\n",
      "C:\\Users\\USER\\Anaconda3\\lib\\site-packages\\sklearn\\linear_model\\logistic.py:433: FutureWarning: Default solver will be changed to 'lbfgs' in 0.22. Specify a solver to silence this warning.\n",
      "  FutureWarning)\n",
      "C:\\Users\\USER\\Anaconda3\\lib\\site-packages\\sklearn\\linear_model\\logistic.py:433: FutureWarning: Default solver will be changed to 'lbfgs' in 0.22. Specify a solver to silence this warning.\n",
      "  FutureWarning)\n",
      "C:\\Users\\USER\\Anaconda3\\lib\\site-packages\\sklearn\\linear_model\\logistic.py:433: FutureWarning: Default solver will be changed to 'lbfgs' in 0.22. Specify a solver to silence this warning.\n",
      "  FutureWarning)\n",
      "C:\\Users\\USER\\Anaconda3\\lib\\site-packages\\sklearn\\linear_model\\logistic.py:433: FutureWarning: Default solver will be changed to 'lbfgs' in 0.22. Specify a solver to silence this warning.\n",
      "  FutureWarning)\n",
      "C:\\Users\\USER\\Anaconda3\\lib\\site-packages\\sklearn\\linear_model\\logistic.py:433: FutureWarning: Default solver will be changed to 'lbfgs' in 0.22. Specify a solver to silence this warning.\n",
      "  FutureWarning)\n",
      "C:\\Users\\USER\\Anaconda3\\lib\\site-packages\\sklearn\\linear_model\\logistic.py:433: FutureWarning: Default solver will be changed to 'lbfgs' in 0.22. Specify a solver to silence this warning.\n",
      "  FutureWarning)\n",
      "C:\\Users\\USER\\Anaconda3\\lib\\site-packages\\sklearn\\linear_model\\logistic.py:433: FutureWarning: Default solver will be changed to 'lbfgs' in 0.22. Specify a solver to silence this warning.\n",
      "  FutureWarning)\n",
      "C:\\Users\\USER\\Anaconda3\\lib\\site-packages\\sklearn\\linear_model\\logistic.py:433: FutureWarning: Default solver will be changed to 'lbfgs' in 0.22. Specify a solver to silence this warning.\n",
      "  FutureWarning)\n",
      "C:\\Users\\USER\\Anaconda3\\lib\\site-packages\\sklearn\\linear_model\\logistic.py:433: FutureWarning: Default solver will be changed to 'lbfgs' in 0.22. Specify a solver to silence this warning.\n",
      "  FutureWarning)\n",
      "C:\\Users\\USER\\Anaconda3\\lib\\site-packages\\sklearn\\linear_model\\logistic.py:433: FutureWarning: Default solver will be changed to 'lbfgs' in 0.22. Specify a solver to silence this warning.\n",
      "  FutureWarning)\n",
      "C:\\Users\\USER\\Anaconda3\\lib\\site-packages\\sklearn\\linear_model\\logistic.py:433: FutureWarning: Default solver will be changed to 'lbfgs' in 0.22. Specify a solver to silence this warning.\n",
      "  FutureWarning)\n",
      "C:\\Users\\USER\\Anaconda3\\lib\\site-packages\\sklearn\\linear_model\\logistic.py:433: FutureWarning: Default solver will be changed to 'lbfgs' in 0.22. Specify a solver to silence this warning.\n",
      "  FutureWarning)\n",
      "C:\\Users\\USER\\Anaconda3\\lib\\site-packages\\sklearn\\linear_model\\logistic.py:433: FutureWarning: Default solver will be changed to 'lbfgs' in 0.22. Specify a solver to silence this warning.\n",
      "  FutureWarning)\n",
      "C:\\Users\\USER\\Anaconda3\\lib\\site-packages\\sklearn\\linear_model\\logistic.py:433: FutureWarning: Default solver will be changed to 'lbfgs' in 0.22. Specify a solver to silence this warning.\n",
      "  FutureWarning)\n",
      "C:\\Users\\USER\\Anaconda3\\lib\\site-packages\\sklearn\\linear_model\\logistic.py:433: FutureWarning: Default solver will be changed to 'lbfgs' in 0.22. Specify a solver to silence this warning.\n",
      "  FutureWarning)\n",
      "C:\\Users\\USER\\Anaconda3\\lib\\site-packages\\sklearn\\linear_model\\logistic.py:433: FutureWarning: Default solver will be changed to 'lbfgs' in 0.22. Specify a solver to silence this warning.\n",
      "  FutureWarning)\n",
      "C:\\Users\\USER\\Anaconda3\\lib\\site-packages\\sklearn\\linear_model\\logistic.py:433: FutureWarning: Default solver will be changed to 'lbfgs' in 0.22. Specify a solver to silence this warning.\n",
      "  FutureWarning)\n",
      "C:\\Users\\USER\\Anaconda3\\lib\\site-packages\\sklearn\\linear_model\\logistic.py:433: FutureWarning: Default solver will be changed to 'lbfgs' in 0.22. Specify a solver to silence this warning.\n",
      "  FutureWarning)\n",
      "C:\\Users\\USER\\Anaconda3\\lib\\site-packages\\sklearn\\linear_model\\logistic.py:433: FutureWarning: Default solver will be changed to 'lbfgs' in 0.22. Specify a solver to silence this warning.\n",
      "  FutureWarning)\n",
      "C:\\Users\\USER\\Anaconda3\\lib\\site-packages\\sklearn\\linear_model\\logistic.py:433: FutureWarning: Default solver will be changed to 'lbfgs' in 0.22. Specify a solver to silence this warning.\n",
      "  FutureWarning)\n",
      "C:\\Users\\USER\\Anaconda3\\lib\\site-packages\\sklearn\\linear_model\\logistic.py:433: FutureWarning: Default solver will be changed to 'lbfgs' in 0.22. Specify a solver to silence this warning.\n",
      "  FutureWarning)\n",
      "C:\\Users\\USER\\Anaconda3\\lib\\site-packages\\sklearn\\linear_model\\logistic.py:433: FutureWarning: Default solver will be changed to 'lbfgs' in 0.22. Specify a solver to silence this warning.\n",
      "  FutureWarning)\n",
      "C:\\Users\\USER\\Anaconda3\\lib\\site-packages\\sklearn\\linear_model\\logistic.py:433: FutureWarning: Default solver will be changed to 'lbfgs' in 0.22. Specify a solver to silence this warning.\n",
      "  FutureWarning)\n",
      "C:\\Users\\USER\\Anaconda3\\lib\\site-packages\\sklearn\\linear_model\\logistic.py:433: FutureWarning: Default solver will be changed to 'lbfgs' in 0.22. Specify a solver to silence this warning.\n",
      "  FutureWarning)\n",
      "C:\\Users\\USER\\Anaconda3\\lib\\site-packages\\sklearn\\linear_model\\logistic.py:433: FutureWarning: Default solver will be changed to 'lbfgs' in 0.22. Specify a solver to silence this warning.\n",
      "  FutureWarning)\n",
      "C:\\Users\\USER\\Anaconda3\\lib\\site-packages\\sklearn\\linear_model\\logistic.py:433: FutureWarning: Default solver will be changed to 'lbfgs' in 0.22. Specify a solver to silence this warning.\n",
      "  FutureWarning)\n",
      "C:\\Users\\USER\\Anaconda3\\lib\\site-packages\\sklearn\\linear_model\\logistic.py:433: FutureWarning: Default solver will be changed to 'lbfgs' in 0.22. Specify a solver to silence this warning.\n",
      "  FutureWarning)\n",
      "C:\\Users\\USER\\Anaconda3\\lib\\site-packages\\sklearn\\linear_model\\logistic.py:433: FutureWarning: Default solver will be changed to 'lbfgs' in 0.22. Specify a solver to silence this warning.\n",
      "  FutureWarning)\n",
      "C:\\Users\\USER\\Anaconda3\\lib\\site-packages\\sklearn\\linear_model\\logistic.py:433: FutureWarning: Default solver will be changed to 'lbfgs' in 0.22. Specify a solver to silence this warning.\n",
      "  FutureWarning)\n",
      "C:\\Users\\USER\\Anaconda3\\lib\\site-packages\\sklearn\\linear_model\\logistic.py:433: FutureWarning: Default solver will be changed to 'lbfgs' in 0.22. Specify a solver to silence this warning.\n",
      "  FutureWarning)\n"
     ]
    }
   ],
   "source": [
    "# import GridSearch\n",
    "from sklearn.model_selection import GridSearchCV\n",
    "from sklearn.linear_model import LogisticRegression\n",
    "\n",
    "#array([  1.00000000e+00,   1.00000000e+01,   1.00000000e+02,1.00000000e+03,   1.00000000e+04])\n",
    "grid = {'C': np.logspace(0, 4, 10)} # (1, 10, 100, 1,000, 10,000, 100,000)\n",
    "\n",
    "# instantiate the model \n",
    "logreg = LogisticRegression()\n",
    "\n",
    "# GridSearch \n",
    "clf_logreg = GridSearchCV(logreg, param_grid=grid)\n",
    "\n",
    "# fit the model with data\n",
    "clf_log=clf_logreg.fit(x_train_res, y_train_res)"
   ]
  },
  {
   "cell_type": "code",
   "execution_count": 32,
   "metadata": {},
   "outputs": [
    {
     "name": "stdout",
     "output_type": "stream",
     "text": [
      "{'C': 1.0}\n"
     ]
    }
   ],
   "source": [
    "print(clf_log.best_params_)"
   ]
  },
  {
   "cell_type": "code",
   "execution_count": 33,
   "metadata": {},
   "outputs": [
    {
     "name": "stdout",
     "output_type": "stream",
     "text": [
      "Validation Results\n",
      "0.6196187496378701\n",
      "0.6163541537315286\n",
      "\n",
      "Test Results\n",
      "0.6216103462661661\n",
      "0.6169616961696169\n"
     ]
    }
   ],
   "source": [
    "from sklearn.metrics import recall_score\n",
    "\n",
    "print('Validation Results')\n",
    "print(clf_log.score(x_valid, y_valid))\n",
    "print(recall_score(y_valid, clf_log.predict(x_valid)))\n",
    "print('\\nTest Results')\n",
    "print(clf_log.score(test_features, test_target))\n",
    "print(recall_score(test_target, clf_log.predict(test_features)))"
   ]
  },
  {
   "cell_type": "code",
   "execution_count": 34,
   "metadata": {},
   "outputs": [],
   "source": [
    "# prediction\n",
    "logreg_predic=clf_log.predict(test_features)"
   ]
  },
  {
   "cell_type": "code",
   "execution_count": 35,
   "metadata": {},
   "outputs": [
    {
     "name": "stdout",
     "output_type": "stream",
     "text": [
      "              precision    recall  f1-score   support\n",
      "\n",
      "           0       0.12      0.68      0.21      1575\n",
      "           1       0.96      0.62      0.75     19998\n",
      "\n",
      "   micro avg       0.62      0.62      0.62     21573\n",
      "   macro avg       0.54      0.65      0.48     21573\n",
      "weighted avg       0.90      0.62      0.71     21573\n",
      "\n",
      "[[ 1072   503]\n",
      " [ 7660 12338]]\n"
     ]
    }
   ],
   "source": [
    "# print out result\n",
    "from sklearn.metrics import classification_report,confusion_matrix\n",
    "print(classification_report(test_target,logreg_predic))\n",
    "print(confusion_matrix(test_target, logreg_predic))"
   ]
  },
  {
   "cell_type": "markdown",
   "metadata": {},
   "source": [
    "## AUC Matrix Accuracy"
   ]
  },
  {
   "cell_type": "code",
   "execution_count": 36,
   "metadata": {},
   "outputs": [],
   "source": [
    "# Import metric functions from sklearn\n",
    "from sklearn.metrics import accuracy_score, precision_score, recall_score, f1_score\n",
    "from sklearn.metrics import roc_auc_score, roc_curve, auc"
   ]
  },
  {
   "cell_type": "code",
   "execution_count": 37,
   "metadata": {},
   "outputs": [
    {
     "name": "stderr",
     "output_type": "stream",
     "text": [
      "C:\\Users\\USER\\Anaconda3\\lib\\site-packages\\sklearn\\model_selection\\_split.py:2053: FutureWarning: You should specify a value for 'cv' instead of relying on the default value. The default value will change from 3 to 5 in version 0.22.\n",
      "  warnings.warn(CV_WARNING, FutureWarning)\n",
      "C:\\Users\\USER\\Anaconda3\\lib\\site-packages\\sklearn\\linear_model\\logistic.py:433: FutureWarning: Default solver will be changed to 'lbfgs' in 0.22. Specify a solver to silence this warning.\n",
      "  FutureWarning)\n",
      "C:\\Users\\USER\\Anaconda3\\lib\\site-packages\\sklearn\\linear_model\\logistic.py:433: FutureWarning: Default solver will be changed to 'lbfgs' in 0.22. Specify a solver to silence this warning.\n",
      "  FutureWarning)\n",
      "C:\\Users\\USER\\Anaconda3\\lib\\site-packages\\sklearn\\linear_model\\logistic.py:433: FutureWarning: Default solver will be changed to 'lbfgs' in 0.22. Specify a solver to silence this warning.\n",
      "  FutureWarning)\n",
      "C:\\Users\\USER\\Anaconda3\\lib\\site-packages\\sklearn\\linear_model\\logistic.py:433: FutureWarning: Default solver will be changed to 'lbfgs' in 0.22. Specify a solver to silence this warning.\n",
      "  FutureWarning)\n",
      "C:\\Users\\USER\\Anaconda3\\lib\\site-packages\\sklearn\\linear_model\\logistic.py:433: FutureWarning: Default solver will be changed to 'lbfgs' in 0.22. Specify a solver to silence this warning.\n",
      "  FutureWarning)\n",
      "C:\\Users\\USER\\Anaconda3\\lib\\site-packages\\sklearn\\linear_model\\logistic.py:433: FutureWarning: Default solver will be changed to 'lbfgs' in 0.22. Specify a solver to silence this warning.\n",
      "  FutureWarning)\n",
      "C:\\Users\\USER\\Anaconda3\\lib\\site-packages\\sklearn\\linear_model\\logistic.py:433: FutureWarning: Default solver will be changed to 'lbfgs' in 0.22. Specify a solver to silence this warning.\n",
      "  FutureWarning)\n",
      "C:\\Users\\USER\\Anaconda3\\lib\\site-packages\\sklearn\\linear_model\\logistic.py:433: FutureWarning: Default solver will be changed to 'lbfgs' in 0.22. Specify a solver to silence this warning.\n",
      "  FutureWarning)\n",
      "C:\\Users\\USER\\Anaconda3\\lib\\site-packages\\sklearn\\linear_model\\logistic.py:433: FutureWarning: Default solver will be changed to 'lbfgs' in 0.22. Specify a solver to silence this warning.\n",
      "  FutureWarning)\n",
      "C:\\Users\\USER\\Anaconda3\\lib\\site-packages\\sklearn\\linear_model\\logistic.py:433: FutureWarning: Default solver will be changed to 'lbfgs' in 0.22. Specify a solver to silence this warning.\n",
      "  FutureWarning)\n",
      "C:\\Users\\USER\\Anaconda3\\lib\\site-packages\\sklearn\\linear_model\\logistic.py:433: FutureWarning: Default solver will be changed to 'lbfgs' in 0.22. Specify a solver to silence this warning.\n",
      "  FutureWarning)\n",
      "C:\\Users\\USER\\Anaconda3\\lib\\site-packages\\sklearn\\linear_model\\logistic.py:433: FutureWarning: Default solver will be changed to 'lbfgs' in 0.22. Specify a solver to silence this warning.\n",
      "  FutureWarning)\n",
      "C:\\Users\\USER\\Anaconda3\\lib\\site-packages\\sklearn\\linear_model\\logistic.py:433: FutureWarning: Default solver will be changed to 'lbfgs' in 0.22. Specify a solver to silence this warning.\n",
      "  FutureWarning)\n",
      "C:\\Users\\USER\\Anaconda3\\lib\\site-packages\\sklearn\\linear_model\\logistic.py:433: FutureWarning: Default solver will be changed to 'lbfgs' in 0.22. Specify a solver to silence this warning.\n",
      "  FutureWarning)\n",
      "C:\\Users\\USER\\Anaconda3\\lib\\site-packages\\sklearn\\linear_model\\logistic.py:433: FutureWarning: Default solver will be changed to 'lbfgs' in 0.22. Specify a solver to silence this warning.\n",
      "  FutureWarning)\n",
      "C:\\Users\\USER\\Anaconda3\\lib\\site-packages\\sklearn\\linear_model\\logistic.py:433: FutureWarning: Default solver will be changed to 'lbfgs' in 0.22. Specify a solver to silence this warning.\n",
      "  FutureWarning)\n",
      "C:\\Users\\USER\\Anaconda3\\lib\\site-packages\\sklearn\\linear_model\\logistic.py:433: FutureWarning: Default solver will be changed to 'lbfgs' in 0.22. Specify a solver to silence this warning.\n",
      "  FutureWarning)\n",
      "C:\\Users\\USER\\Anaconda3\\lib\\site-packages\\sklearn\\linear_model\\logistic.py:433: FutureWarning: Default solver will be changed to 'lbfgs' in 0.22. Specify a solver to silence this warning.\n",
      "  FutureWarning)\n",
      "C:\\Users\\USER\\Anaconda3\\lib\\site-packages\\sklearn\\linear_model\\logistic.py:433: FutureWarning: Default solver will be changed to 'lbfgs' in 0.22. Specify a solver to silence this warning.\n",
      "  FutureWarning)\n",
      "C:\\Users\\USER\\Anaconda3\\lib\\site-packages\\sklearn\\linear_model\\logistic.py:433: FutureWarning: Default solver will be changed to 'lbfgs' in 0.22. Specify a solver to silence this warning.\n",
      "  FutureWarning)\n",
      "C:\\Users\\USER\\Anaconda3\\lib\\site-packages\\sklearn\\linear_model\\logistic.py:433: FutureWarning: Default solver will be changed to 'lbfgs' in 0.22. Specify a solver to silence this warning.\n",
      "  FutureWarning)\n",
      "C:\\Users\\USER\\Anaconda3\\lib\\site-packages\\sklearn\\linear_model\\logistic.py:433: FutureWarning: Default solver will be changed to 'lbfgs' in 0.22. Specify a solver to silence this warning.\n",
      "  FutureWarning)\n",
      "C:\\Users\\USER\\Anaconda3\\lib\\site-packages\\sklearn\\linear_model\\logistic.py:433: FutureWarning: Default solver will be changed to 'lbfgs' in 0.22. Specify a solver to silence this warning.\n",
      "  FutureWarning)\n",
      "C:\\Users\\USER\\Anaconda3\\lib\\site-packages\\sklearn\\linear_model\\logistic.py:433: FutureWarning: Default solver will be changed to 'lbfgs' in 0.22. Specify a solver to silence this warning.\n",
      "  FutureWarning)\n",
      "C:\\Users\\USER\\Anaconda3\\lib\\site-packages\\sklearn\\linear_model\\logistic.py:433: FutureWarning: Default solver will be changed to 'lbfgs' in 0.22. Specify a solver to silence this warning.\n",
      "  FutureWarning)\n",
      "C:\\Users\\USER\\Anaconda3\\lib\\site-packages\\sklearn\\linear_model\\logistic.py:433: FutureWarning: Default solver will be changed to 'lbfgs' in 0.22. Specify a solver to silence this warning.\n",
      "  FutureWarning)\n",
      "C:\\Users\\USER\\Anaconda3\\lib\\site-packages\\sklearn\\linear_model\\logistic.py:433: FutureWarning: Default solver will be changed to 'lbfgs' in 0.22. Specify a solver to silence this warning.\n",
      "  FutureWarning)\n",
      "C:\\Users\\USER\\Anaconda3\\lib\\site-packages\\sklearn\\linear_model\\logistic.py:433: FutureWarning: Default solver will be changed to 'lbfgs' in 0.22. Specify a solver to silence this warning.\n",
      "  FutureWarning)\n",
      "C:\\Users\\USER\\Anaconda3\\lib\\site-packages\\sklearn\\linear_model\\logistic.py:433: FutureWarning: Default solver will be changed to 'lbfgs' in 0.22. Specify a solver to silence this warning.\n",
      "  FutureWarning)\n",
      "C:\\Users\\USER\\Anaconda3\\lib\\site-packages\\sklearn\\linear_model\\logistic.py:433: FutureWarning: Default solver will be changed to 'lbfgs' in 0.22. Specify a solver to silence this warning.\n",
      "  FutureWarning)\n",
      "C:\\Users\\USER\\Anaconda3\\lib\\site-packages\\sklearn\\linear_model\\logistic.py:433: FutureWarning: Default solver will be changed to 'lbfgs' in 0.22. Specify a solver to silence this warning.\n",
      "  FutureWarning)\n"
     ]
    },
    {
     "name": "stdout",
     "output_type": "stream",
     "text": [
      "              train      test\n",
      "metrics                      \n",
      "AUC        0.716077  0.705210\n",
      "Accuracy   0.657760  0.621610\n",
      "Precision  0.671414  0.960829\n",
      "Recall     0.617932  0.616962\n",
      "f1-score   0.643564  0.751424\n"
     ]
    },
    {
     "data": {
      "image/png": "[encoded data removed]",
      "text/plain": [
       "<Figure size 432x288 with 1 Axes>"
      ]
     },
     "metadata": {
      "needs_background": "light"
     },
     "output_type": "display_data"
    }
   ],
   "source": [
    "train_test_model(clf=clf_logreg, X_train=x_train_res, y_train=y_train_res, X_test=test_features, y_test=test_target)"
   ]
  },
  {
   "cell_type": "code",
   "execution_count": 28,
   "metadata": {},
   "outputs": [],
   "source": [
    "# Combine get_performance_metrics and plot_roc_curve functions into one function\n",
    "#def train_test_model(clf, X_train, y_train, X_test, y_test):\n",
    "    # Fit a model by providing X and y from training set\n",
    "#    clf.fit(X_train, y_train)\n",
    "\n",
    "    # Make prediction on the training data\n",
    "#    y_train_pred = clf.predict(X_train)\n",
    "#    p_train_pred = clf.predict_proba(X_train)[:,1]\n",
    "\n",
    "    # Make predictions on test data\n",
    "#    y_test_pred = clf.predict(X_test)\n",
    "#    p_test_pred = clf.predict_proba(X_test)[:,1]\n",
    "\n",
    "    # print model results\n",
    "#    get_performance_metrics(y_train, p_train_pred, y_test, p_test_pred)\n",
    "#    plot_roc_curve(y_train, p_train_pred, y_test, p_test_pred)"
   ]
  },
  {
   "cell_type": "code",
   "execution_count": 29,
   "metadata": {},
   "outputs": [],
   "source": [
    "# Helper method to print metric scores    \n",
    "#def get_performance_metrics(y_train, y_train_pred, y_test, y_test_pred, threshold=0.5):\n",
    "    # names of metrics\n",
    "#    metric_names = ['AUC','Accuracy','Precision','Recall','f1-score']\n",
    "    \n",
    "    # metrics of train\n",
    "#    metric_values_train = [roc_auc_score(y_train, y_train_pred),\n",
    "#                    accuracy_score(y_train, y_train_pred>threshold),\n",
    "#                    precision_score(y_train, y_train_pred>threshold),\n",
    "#                    recall_score(y_train, y_train_pred>threshold),\n",
    "#                    f1_score(y_train, y_train_pred>threshold)\n",
    "#                   ]\n",
    "    \n",
    "    # metrics of test\n",
    "#    metric_values_test = [roc_auc_score(y_test, y_test_pred),\n",
    "#                    accuracy_score(y_test, y_test_pred>threshold),\n",
    "#                    precision_score(y_test, y_test_pred>threshold),\n",
    "#                    recall_score(y_test, y_test_pred>threshold),\n",
    "#                    f1_score(y_test, y_test_pred>threshold)\n",
    "#                   ]\n",
    "    \n",
    "    # combine metrics from train and test\n",
    "#    all_metrics = pd.DataFrame({'metrics':metric_names,\n",
    "#                                'train':metric_values_train,\n",
    "#                                'test':metric_values_test},columns=['metrics','train','test']).set_index('metrics')\n",
    "#    print(all_metrics)"
   ]
  },
  {
   "cell_type": "code",
   "execution_count": 30,
   "metadata": {},
   "outputs": [],
   "source": [
    "# Function of plotting a roc curve\n",
    "#def plot_roc_curve(y_train, y_train_pred, y_test, y_test_pred):\n",
    "#    roc_auc_train = roc_auc_score(y_train, y_train_pred)\n",
    "#    fpr_train, tpr_train, _ = roc_curve(y_train, y_train_pred)\n",
    "\n",
    "#    roc_auc_test = roc_auc_score(y_test, y_test_pred)\n",
    "#    fpr_test, tpr_test, _ = roc_curve(y_test, y_test_pred)\n",
    "#    plt.figure()\n",
    "#    lw = 2\n",
    "#    plt.plot(fpr_train, tpr_train, color='green',\n",
    "#             lw=lw, label='ROC Train (AUC = %0.4f)' % roc_auc_train)\n",
    "#    plt.plot(fpr_test, tpr_test, color='darkorange',\n",
    "#             lw=lw, label='ROC Test (AUC = %0.4f)' % roc_auc_test)\n",
    "#    plt.plot([0, 1], [0, 1], color='navy', lw=lw, linestyle='--')\n",
    "#    plt.xlim([0.0, 1.0])\n",
    "#    plt.ylim([0.0, 1.05])\n",
    "#    plt.xlabel('False Positive Rate')\n",
    "#    plt.ylabel('True Positive Rate')\n",
    "#    plt.title('Receiver operating characteristic example')\n",
    "#    plt.legend(loc=\"lower right\")\n",
    "#    plt.show()"
   ]
  }
 ],
 "metadata": {
  "kernelspec": {
   "display_name": "Python 3",
   "language": "python",
   "name": "python3"
  },
  "language_info": {
   "codemirror_mode": {
    "name": "ipython",
    "version": 3
   },
   "file_extension": ".py",
   "mimetype": "text/x-python",
   "name": "python",
   "nbconvert_exporter": "python",
   "pygments_lexer": "ipython3",
   "version": "3.7.3"
  }
 },
 "nbformat": 4,
 "nbformat_minor": 2
}
